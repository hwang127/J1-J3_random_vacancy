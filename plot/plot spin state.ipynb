{
 "cells": [
  {
   "cell_type": "code",
   "execution_count": 1,
   "metadata": {},
   "outputs": [],
   "source": [
    "import numpy as np \n",
    "import matplotlib.pyplot as plt\n",
    "from mpl_toolkits.mplot3d import Axes3D\n",
    "from matplotlib import cm\n",
    "import pandas as pd\n",
    "from scipy.optimize import curve_fit\n",
    "from collections import Counter\n",
    "\n",
    "L = 266"
   ]
  },
  {
   "cell_type": "code",
   "execution_count": 2,
   "metadata": {},
   "outputs": [],
   "source": [
    "def plot_seed1(seed1, seed, beta, T, L = L, time = 1):\n",
    "    num = 100\n",
    "    alpha = 0\n",
    "    n=L*L\n",
    "        \n",
    "    # Define coordinates for plotting\n",
    "    \n",
    "    Y=np.array([[np.sqrt(3) * i / 2]* L for i in range(L)]).flatten()\n",
    "    X=np.array([np.arange(L) -0.5 * i for i in range(L)]).flatten()\n",
    "    \n",
    "    for k,t in enumerate(T):\n",
    "\n",
    "\n",
    "        try:\n",
    "            f=open(f\"F:\\\\CM\\\\Prjt2\\\\Simulation\\\\newUpdate\\\\vacancy\\\\runs\\\\{seed1}_seed_{seed}_T_{t}_beta_{beta}_xi_{num}_L_{L}_{time}.txt\",\"r\")\n",
    "        except:\n",
    "            f=open(f\"F:\\\\CM\\\\Prjt2\\\\Simulation\\\\newUpdate\\\\vacancy\\\\runs\\\\{seed1}_seed_{seed}_T_{t}_beta_{beta}_xi_{num}_L_{L}_{time-1}.txt\",\"r\")\n",
    "\n",
    "        Q1=np.zeros((L,L))\n",
    "        Q2=np.zeros((L,L))\n",
    "        Q3=np.zeros((L,L))\n",
    "        s=np.zeros((n,3))\n",
    "        Image=np.zeros((L,L,3))\n",
    "        s=np.zeros((n,3)) #All spin vectors in a vector\n",
    "        i=0\n",
    "        for line in f:\n",
    "            a=line.split(\"=\")\n",
    "            s[i]=[a[1],a[2],a[3]]\n",
    "            i+=1\n",
    "\n",
    "        S=np.zeros((L,L,3))  #All spin vectors in a 2d array\n",
    "        for i in range(n):\n",
    "            S[i//L][i%L]=s[i]\n",
    "        Green,Blue,Red=np.zeros((L,L)),np.zeros((L,L)),np.zeros((L,L))\n",
    "        Q=np.zeros((L,L))\n",
    "        for i in range(L):\n",
    "            for j in range(L):\n",
    "                Red[i][j]=np.dot(S[i][j],S[i][(j+1)%L])\n",
    "                Green[i][j]=np.dot(S[i][j],S[(i+1)%L][(j+1)%L])\n",
    "                Blue[i][j]=np.dot(S[(i+1)%L][(j+1)%L],S[i][(j+1)%L])\n",
    "                \n",
    "                Q1[i][j]=(Red[i][j]+Blue[i][j]-2*Green[i][j])\n",
    "                Q2[i][j]=(Green[i][j]+Blue[i][j]-2*Red[i][j])\n",
    "                Q3[i][j]=(Red[i][j]+Green[i][j]-2*Blue[i][j])\n",
    "                Image[i][j]=np.array([Q1[i][j],Q2[i][j],Q3[i][j]])\n",
    "\n",
    "        fig,ax=plt.subplots(figsize=(6*np.sqrt(3) , 6))\n",
    "        ax.scatter(X, Y, c = Image.clip(0, 1).reshape(-1, 3), s = 4)\n",
    "        ax.set_title(f\"T = {t}, J_1' = {beta}\")\n"
   ]
  },
  {
   "cell_type": "code",
   "execution_count": 3,
   "metadata": {
    "scrolled": false
   },
   "outputs": [
    {
     "data": {
      "image/png": "[encoded data removed]",
      "text/plain": [
       "<Figure size 748.246x432 with 1 Axes>"
      ]
     },
     "metadata": {
      "needs_background": "light"
     },
     "output_type": "display_data"
    }
   ],
   "source": [
    "for seed in range(1,2):\n",
    "    plot_seed1(1, seed, 0, [0.02])"
   ]
  },
  {
   "cell_type": "code",
   "execution_count": null,
   "metadata": {},
   "outputs": [],
   "source": []
  }
 ],
 "metadata": {
  "kernelspec": {
   "display_name": "Python 3",
   "language": "python",
   "name": "python3"
  },
  "language_info": {
   "codemirror_mode": {
    "name": "ipython",
    "version": 3
   },
   "file_extension": ".py",
   "mimetype": "text/x-python",
   "name": "python",
   "nbconvert_exporter": "python",
   "pygments_lexer": "ipython3",
   "version": "3.7.9"
  }
 },
 "nbformat": 4,
 "nbformat_minor": 4
}
