{
 "cells": [
  {
   "cell_type": "code",
   "execution_count": 1,
   "metadata": {},
   "outputs": [],
   "source": [
    "import numpy as np\n",
    "import matplotlib.pyplot as plt\n",
    "import scipy.special as sc"
   ]
  },
  {
   "cell_type": "code",
   "execution_count": 4,
   "metadata": {},
   "outputs": [],
   "source": [
    "def recip(x, y, L, ita, K):\n",
    "    dk = 2 * np.pi / L\n",
    "    u1 = 0\n",
    "    u2 = 0\n",
    "    for i in range(K):\n",
    "        for j in range(K):\n",
    "            if i == 0 and j == 0:\n",
    "                continue\n",
    "            kx = dk * i\n",
    "            ky = dk * j\n",
    "            k2 = kx**2 + ky**2\n",
    "            factor = np.exp(-k2 / (4 * ita**2)) / k2\n",
    "            kr = kx * x + ky * y\n",
    "            u1 += factor * kx * np.sin(kr)\n",
    "            u2 += factor * ky * np.sin(kr)\n",
    "    return u1, u2"
   ]
  },
  {
   "cell_type": "code",
   "execution_count": 32,
   "metadata": {},
   "outputs": [],
   "source": [
    "u1, u2 = [], []\n",
    "L = 300\n",
    "ita = 6 / L\n",
    "for K in range(50):\n",
    "    a, b = recip(100, 100, L, ita, K)\n",
    "    u1.append(a)\n",
    "    u2.append(b)\n",
    "    "
   ]
  },
  {
   "cell_type": "code",
   "execution_count": 33,
   "metadata": {},
   "outputs": [
    {
     "data": {
      "text/plain": [
       "[<matplotlib.lines.Line2D at 0x1463ce11ba8>]"
      ]
     },
     "execution_count": 33,
     "metadata": {},
     "output_type": "execute_result"
    },
    {
     "data": {
      "image/png": "[encoded data removed]",
      "text/plain": [
       "<Figure size 432x288 with 1 Axes>"
      ]
     },
     "metadata": {
      "needs_background": "light"
     },
     "output_type": "display_data"
    }
   ],
   "source": [
    "plt.plot(u1)\n",
    "plt.plot(u2)"
   ]
  },
  {
   "cell_type": "code",
   "execution_count": 39,
   "metadata": {},
   "outputs": [],
   "source": [
    "L = 200\n",
    "ita = 6 / L\n",
    "u = np.zeros((L, L, 2))\n",
    "x0 = L//2\n",
    "y0 = L//2\n",
    "for i in range(L):\n",
    "    for j in range(L):\n",
    "\n",
    "        x = i - x0\n",
    "        y = j - y0\n",
    "        r2 = x**2 + y**2\n",
    "        if r2 == 0:\n",
    "            continue\n",
    "        rec1, rec2 = recip(x, y, L, ita, 10)\n",
    "        u1 = (x / r2 * np.exp(-ita**2 * r2)) + 2 * np.pi / L**2 * rec1\n",
    "        u2 = (y / r2 * np.exp(-ita**2 * r2)) + 2 * np.pi / L**2 * rec2\n",
    "        u[i, j] = [u1, u2]"
   ]
  },
  {
   "cell_type": "code",
   "execution_count": 40,
   "metadata": {},
   "outputs": [
    {
     "data": {
      "text/plain": [
       "<matplotlib.image.AxesImage at 0x1463cc00978>"
      ]
     },
     "execution_count": 40,
     "metadata": {},
     "output_type": "execute_result"
    },
    {
     "data": {
      "image/png": "[encoded data removed]",
      "text/plain": [
       "<Figure size 288x288 with 1 Axes>"
      ]
     },
     "metadata": {
      "needs_background": "light"
     },
     "output_type": "display_data"
    }
   ],
   "source": [
    "plt.matshow(u[:, :, 0])"
   ]
  },
  {
   "cell_type": "code",
   "execution_count": 49,
   "metadata": {},
   "outputs": [],
   "source": [
    "r = []\n",
    "ux = []\n",
    "\n",
    "for i in range(L):\n",
    "    x = i - x0\n",
    "    if x  == 0:\n",
    "        continue\n",
    "    r.append(np.abs(x))\n",
    "    ux.append(np.abs(u[i, y0, 0]))\n"
   ]
  },
  {
   "cell_type": "code",
   "execution_count": 50,
   "metadata": {},
   "outputs": [],
   "source": [
    "r = []\n",
    "\n",
    "uy = []\n",
    "for j in range(L):\n",
    "    y = j - y0\n",
    "    if y  == 0:\n",
    "        continue\n",
    "    r.append(np.abs(y))\n",
    "    uy.append(np.abs(u[x0, j, 1]))"
   ]
  },
  {
   "cell_type": "code",
   "execution_count": 51,
   "metadata": {},
   "outputs": [
    {
     "data": {
      "image/png": "[encoded data removed]",
      "text/plain": [
       "<Figure size 432x288 with 1 Axes>"
      ]
     },
     "metadata": {
      "needs_background": "light"
     },
     "output_type": "display_data"
    }
   ],
   "source": [
    "plt.plot(r, ux)\n",
    "plt.plot(r, uy)\n",
    "plt.yscale('log')"
   ]
  },
  {
   "cell_type": "code",
   "execution_count": null,
   "metadata": {},
   "outputs": [],
   "source": []
  }
 ],
 "metadata": {
  "kernelspec": {
   "display_name": "Python 3",
   "language": "python",
   "name": "python3"
  },
  "language_info": {
   "codemirror_mode": {
    "name": "ipython",
    "version": 3
   },
   "file_extension": ".py",
   "mimetype": "text/x-python",
   "name": "python",
   "nbconvert_exporter": "python",
   "pygments_lexer": "ipython3",
   "version": "3.7.3"
  }
 },
 "nbformat": 4,
 "nbformat_minor": 2
}
